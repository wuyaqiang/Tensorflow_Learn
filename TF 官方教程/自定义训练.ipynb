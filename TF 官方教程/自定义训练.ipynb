{
 "cells": [
  {
   "cell_type": "code",
   "execution_count": null,
   "metadata": {},
   "outputs": [],
   "source": [
    "'''\n",
    "该文档包含：<自定义训练：基础知识>，<自定义层>，<自定义训练：演示> 三小节。\n",
    "'''"
   ]
  },
  {
   "cell_type": "code",
   "execution_count": 2,
   "metadata": {},
   "outputs": [],
   "source": [
    "import tensorflow as tf\n",
    "tf.enable_eager_execution()"
   ]
  },
  {
   "cell_type": "code",
   "execution_count": 3,
   "metadata": {},
   "outputs": [],
   "source": [
    "class Model(object):\n",
    "    def __init__(self):\n",
    "        self.W = tf.Variable(5.0)\n",
    "        self.b = tf.Variable(0.0)\n",
    "        \n",
    "    def __call__(self, x):\n",
    "        return self.W * x + self.b\n",
    "\n",
    "model = Model()"
   ]
  },
  {
   "cell_type": "code",
   "execution_count": 4,
   "metadata": {},
   "outputs": [],
   "source": [
    "def loss(predict_y, y):\n",
    "    return tf.reduce_mean(tf.square(predict_y - y))"
   ]
  },
  {
   "cell_type": "code",
   "execution_count": 5,
   "metadata": {},
   "outputs": [],
   "source": [
    "true_w = 3.0\n",
    "true_b = 2.0\n",
    "num_examples = 1000\n",
    "\n",
    "inputs  = tf.random_normal(shape=[num_examples])\n",
    "noise   = tf.random_normal(shape=[num_examples])\n",
    "outputs = inputs * true_w + true_b + noise"
   ]
  },
  {
   "cell_type": "code",
   "execution_count": 7,
   "metadata": {},
   "outputs": [],
   "source": [
    "def train(model, inputs, outputs, lr):\n",
    "    with tf.GradientTape() as t:\n",
    "        cur_loss = loss(model(inputs), outputs)\n",
    "    dw, db = t.gradient(cur_loss, [model.W, model.b])\n",
    "    model.W.assign_sub(lr * dw)\n",
    "    model.b.assign_sub(lr * db)"
   ]
  },
  {
   "cell_type": "code",
   "execution_count": 9,
   "metadata": {},
   "outputs": [
    {
     "name": "stdout",
     "output_type": "stream",
     "text": [
      "Epoch  0: W=5.00 b=0.00, loss=8.76343\n",
      "Epoch  1: W=4.63 b=0.40, loss=6.08209\n",
      "Epoch  2: W=4.33 b=0.72, loss=4.32882\n",
      "Epoch  3: W=4.08 b=0.97, loss=3.18217\n",
      "Epoch  4: W=3.88 b=1.18, loss=2.43212\n",
      "Epoch  5: W=3.71 b=1.35, loss=1.94140\n",
      "Epoch  6: W=3.58 b=1.48, loss=1.62030\n",
      "Epoch  7: W=3.47 b=1.59, loss=1.41015\n",
      "Epoch  8: W=3.38 b=1.67, loss=1.27259\n",
      "Epoch  9: W=3.31 b=1.74, loss=1.18253\n"
     ]
    }
   ],
   "source": [
    "model = Model()\n",
    "\n",
    "ws, bs = [], []\n",
    "for epoch in range(10):\n",
    "    ws.append(model.W.numpy())\n",
    "    bs.append(model.b.numpy())\n",
    "    cur_loss = loss(model(inputs), outputs)\n",
    "    \n",
    "    train(model, inputs, outputs, lr = 0.1)\n",
    "    print('Epoch %2d: W=%1.2f b=%1.2f, loss=%2.5f' % (epoch, ws[-1], bs[-1], cur_loss))"
   ]
  },
  {
   "cell_type": "code",
   "execution_count": null,
   "metadata": {},
   "outputs": [],
   "source": []
  },
  {
   "cell_type": "code",
   "execution_count": null,
   "metadata": {},
   "outputs": [],
   "source": []
  },
  {
   "cell_type": "code",
   "execution_count": null,
   "metadata": {},
   "outputs": [],
   "source": []
  },
  {
   "cell_type": "code",
   "execution_count": null,
   "metadata": {},
   "outputs": [],
   "source": []
  },
  {
   "cell_type": "code",
   "execution_count": null,
   "metadata": {},
   "outputs": [],
   "source": []
  },
  {
   "cell_type": "code",
   "execution_count": null,
   "metadata": {},
   "outputs": [],
   "source": []
  },
  {
   "cell_type": "code",
   "execution_count": null,
   "metadata": {},
   "outputs": [],
   "source": []
  }
 ],
 "metadata": {
  "kernelspec": {
   "display_name": "Python 3",
   "language": "python",
   "name": "python3"
  },
  "language_info": {
   "codemirror_mode": {
    "name": "ipython",
    "version": 3
   },
   "file_extension": ".py",
   "mimetype": "text/x-python",
   "name": "python",
   "nbconvert_exporter": "python",
   "pygments_lexer": "ipython3",
   "version": "3.7.4"
  }
 },
 "nbformat": 4,
 "nbformat_minor": 2
}
